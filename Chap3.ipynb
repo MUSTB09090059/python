{
  "cells": [
    {
      "cell_type": "markdown",
      "metadata": {
        "id": "OIkHBxxGQQWh"
      },
      "source": [
        "# Python物件\n",
        "## List[串列] Tuple(元組) Dictionary{字典} Sets{集合}"
      ]
    },
    {
      "cell_type": "markdown",
      "metadata": {
        "id": "D8CsFUH7QQWm"
      },
      "source": [
        "## List[串列]\n",
        "使用中括號[]包裹元素"
      ]
    },
    {
      "cell_type": "code",
      "execution_count": null,
      "metadata": {
        "id": "mQTNaGHwQQWn",
        "outputId": "6af71c1c-3f3a-402e-93d8-7c150c50259b"
      },
      "outputs": [
        {
          "name": "stdout",
          "output_type": "stream",
          "text": [
            "3600\n"
          ]
        }
      ],
      "source": [
        "expenses = [1138, 101, 12, 300, 2049] #串列[1138, 101, 12, 300, 2049]\n",
        "print(sum(expenses)) #加總"
      ]
    },
    {
      "cell_type": "markdown",
      "metadata": {
        "id": "6xWhT4_jQQWp"
      },
      "source": [
        "### 索引"
      ]
    },
    {
      "cell_type": "code",
      "execution_count": null,
      "metadata": {
        "id": "n2phPB2KQQWq",
        "outputId": "32279814-5216-4a69-a3d9-483242633479"
      },
      "outputs": [
        {
          "name": "stdout",
          "output_type": "stream",
          "text": [
            "1138\n",
            "101\n",
            "2049\n",
            "300\n"
          ]
        }
      ],
      "source": [
        "expenses = [1138, 101, 12, 300, 2049]\n",
        "print(expenses[0]) #索引從0開始\n",
        "print(expenses[1]) #第一個\n",
        "print(expenses[-1]) #倒數第一個\n",
        "print(expenses[-2]) #倒數第二個"
      ]
    },
    {
      "cell_type": "code",
      "execution_count": null,
      "metadata": {
        "id": "6HYihe8pQQWr",
        "outputId": "ac451bad-6169-4032-b309-7b0de30a2790"
      },
      "outputs": [
        {
          "name": "stdout",
          "output_type": "stream",
          "text": [
            "python\n"
          ]
        }
      ],
      "source": [
        "my_list0 = [] #空串列\n",
        "my_list1 = list() #串列一=list()\n",
        "my_list2 = ['python', 'javascript', 'C#'] #串列二 = ['python', 'javascript', 'C#']\n",
        "print(my_list2[0]) #輸出串列二"
      ]
    },
    {
      "cell_type": "markdown",
      "metadata": {
        "id": "IEjVXGrbQQWs"
      },
      "source": [
        "## list的長度"
      ]
    },
    {
      "cell_type": "code",
      "execution_count": null,
      "metadata": {
        "id": "fxq05w6dQQWt",
        "outputId": "964989c9-d467-415f-c3c5-0c4b6b607adc"
      },
      "outputs": [
        {
          "name": "stdout",
          "output_type": "stream",
          "text": [
            "3\n",
            "6\n"
          ]
        }
      ],
      "source": [
        "my_list2 = ['python', 'javascript', 'C#']\n",
        "print(len(my_list2)) #輸出my_list2長度\n",
        "print(len(my_list2[0])) #輸出my_list2串列長度"
      ]
    },
    {
      "cell_type": "markdown",
      "metadata": {
        "id": "ubTWnxtIQQWt"
      },
      "source": [
        "### 附加"
      ]
    },
    {
      "cell_type": "code",
      "execution_count": null,
      "metadata": {
        "id": "G_C040d5QQWu",
        "outputId": "0fa513f8-22b5-4f59-a531-cb8f7b404dbb"
      },
      "outputs": [
        {
          "name": "stdout",
          "output_type": "stream",
          "text": [
            "['python', 'javascript', 'C#', 'java']\n"
          ]
        }
      ],
      "source": [
        "my_list2 = ['python', 'javascript', 'C#'] #串列= ['python', 'javascript', 'C#']\n",
        "my_list2.append('java') #附加\"java\"\n",
        "print(my_list2) #輸出串列"
      ]
    },
    {
      "cell_type": "code",
      "execution_count": null,
      "metadata": {
        "id": "SMky8W0XQQWv",
        "outputId": "0465dce0-b71a-4a8c-f270-6e71eb921c11"
      },
      "outputs": [
        {
          "name": "stdout",
          "output_type": "stream",
          "text": [
            "['python', 'java', 'javascript', 'C#']\n"
          ]
        }
      ],
      "source": [
        "my_list2 = ['python', 'javascript', 'C#'] #串列=['python', 'javascript', 'C#']\n",
        "my_list2.insert(1,'java')#插入指定位置java\n",
        "print(my_list2)#輸出串列"
      ]
    },
    {
      "cell_type": "markdown",
      "metadata": {
        "id": "6Vp-knWsQQWw"
      },
      "source": [
        "### 刪除"
      ]
    },
    {
      "cell_type": "code",
      "execution_count": null,
      "metadata": {
        "id": "jgRTZd7xQQWw",
        "outputId": "94296753-8c86-49f4-c45a-270d6d5f3ecb"
      },
      "outputs": [
        {
          "name": "stdout",
          "output_type": "stream",
          "text": [
            "['javascript', 'C#']\n",
            "['javascript']\n",
            "[]\n"
          ]
        }
      ],
      "source": [
        "my_list2 = ['python', 'javascript', 'C#'] #串列=['python', 'javascript', 'C#']\n",
        "my_list2.remove('python') #移除指定元素\n",
        "print(my_list2)#輸出串列\n",
        "del my_list2[-1] #刪除指定位置的元素\n",
        "print(my_list2)#輸出串列\n",
        "my_list2.clear() #清除全部\n",
        "print(my_list2)#輸出串列"
      ]
    },
    {
      "cell_type": "code",
      "execution_count": null,
      "metadata": {
        "id": "vxQSZ_VQQQWx",
        "outputId": "3098dbbf-ca19-4cac-fb44-e4204f880456"
      },
      "outputs": [
        {
          "name": "stdout",
          "output_type": "stream",
          "text": [
            "[1, 2, 1, 2, 1, 2, 1, 2, 1, 2]\n"
          ]
        }
      ],
      "source": [
        "a=[1,2]\n",
        "print(a*5)"
      ]
    },
    {
      "cell_type": "markdown",
      "metadata": {
        "id": "7GrLJIMVQQWy"
      },
      "source": [
        "### list取值"
      ]
    },
    {
      "cell_type": "code",
      "execution_count": null,
      "metadata": {
        "id": "YqhrxiMCQQWy",
        "outputId": "147a9185-c10b-4eed-ea0d-3f5dea0b02ac"
      },
      "outputs": [
        {
          "name": "stdout",
          "output_type": "stream",
          "text": [
            "[1, 2, 3]\n",
            "[1, 3, 5, 7, 9]\n",
            "[1, 2, 3, 4, 5, 6, 7, 8, 9]\n",
            "[1, 2, 3, 4, 5, 6, 7, 8, 9]\n",
            "[1, 2, 3, 4, 5, 6, 7, 8, 9]\n"
          ]
        }
      ],
      "source": [
        "a=[1,2,3,4,5,6,7,8,9]\n",
        "b=a[0:3] #範圍取值，0,1,2不包含3\n",
        "print(b)ㄖ#輸出b\n",
        "c=a[0:9:2] #間隔2取值\n",
        "print(c) #輸出c\n",
        "d = a[0: ]#取全部值\n",
        "print(d)#輸出d\n",
        "e = a[ :9]#取全部值\n",
        "print(e)#輸出e\n",
        "f = a[:] #取全部值\n",
        "print(f)#輸出f"
      ]
    },
    {
      "cell_type": "code",
      "execution_count": null,
      "metadata": {
        "id": "jfonbqbnQQWz",
        "outputId": "d21f9e86-18bf-4c37-ddf6-9194fd853f19"
      },
      "outputs": [
        {
          "name": "stdout",
          "output_type": "stream",
          "text": [
            "[1, 2, 3, 4, 5, 6, 7]\n",
            "1\n",
            "7\n",
            "0\n",
            "4\n",
            "[7, 6, 5, 4, 3, 2, 1]\n",
            "[1, 2, 3, 4, 5, 6, 7]\n"
          ]
        }
      ],
      "source": [
        "a=[1,2,3,4,5,6,7,8,9]\n",
        "del a[7:9] #刪除某範圍值, 7, 8\n",
        "print(a)\n",
        "print(min(a)) #最小值\n",
        "print(max(a)) #最大值\n",
        "print(a.index(1)) #找出1所在的第一個索引值\n",
        "b=[1,0,0,1,1,1]\n",
        "print(b.count(1)) #1出現的次數\n",
        "a.reverse() #串列反轉\n",
        "print(a)\n",
        "a.sort() #串列由小到大排序,a的值會被改變\n",
        "print(a)"
      ]
    },
    {
      "cell_type": "code",
      "execution_count": null,
      "metadata": {
        "id": "Sa7JCeomQQWz",
        "outputId": "0779dc71-2af2-4f51-9708-ec1047aaa1aa"
      },
      "outputs": [
        {
          "name": "stdout",
          "output_type": "stream",
          "text": [
            "[12, 101, 300, 1138, 2049] [1138, 101, 12, 300, 2049]\n"
          ]
        }
      ],
      "source": [
        "expenses = [1138, 101, 12, 300, 2049]\n",
        "s=sorted(expenses) #expenses的值不會變\n",
        "print(s, expenses)#排序"
      ]
    },
    {
      "cell_type": "code",
      "execution_count": null,
      "metadata": {
        "id": "5QAhU3_-QQW0"
      },
      "outputs": [],
      "source": [
        ""
      ]
    }
  ],
  "metadata": {
    "kernelspec": {
      "display_name": "Python 3",
      "language": "python",
      "name": "python3"
    },
    "language_info": {
      "codemirror_mode": {
        "name": "ipython",
        "version": 3
      },
      "file_extension": ".py",
      "mimetype": "text/x-python",
      "name": "python",
      "nbconvert_exporter": "python",
      "pygments_lexer": "ipython3",
      "version": "3.8.5"
    },
    "colab": {
      "name": "Chap3.ipynb",
      "provenance": []
    }
  },
  "nbformat": 4,
  "nbformat_minor": 0
}