{
  "cells": [
    {
      "cell_type": "markdown",
      "metadata": {
        "id": "5h_hjcLSv1pJ"
      },
      "source": [
        "# Chap.4 numpy套件(numeric python)\n",
        "## 為什麼需要numpy?\n",
        "* numpy由c撰寫，速度快python 10~1000倍以上\n",
        "* numpy儲存結果較正確，python數字儲存不正確\n",
        "* numpy節省記憶體儲存空間\n",
        "* numpy的向量(矩陣計算)速度快\n",
        "* numpy的取值方便"
      ]
    },
    {
      "cell_type": "code",
      "execution_count": null,
      "metadata": {
        "id": "l3gfkEkXv1pM",
        "outputId": "1a03272a-3abe-4d28-8523-233542a8f683"
      },
      "outputs": [
        {
          "name": "stdout",
          "output_type": "stream",
          "text": [
            "[1, 2, 3, 4, 5, 1, 2, 3, 4, 5, 1, 2, 3, 4, 5]\n"
          ]
        }
      ],
      "source": [
        "a_list=[1,2,3,4,5] #串列=[1,2,3,4,5]\n",
        "print(a_list*3)#輸出串列*3"
      ]
    },
    {
      "cell_type": "code",
      "execution_count": null,
      "metadata": {
        "id": "cMd3y-zsv1pO",
        "outputId": "4b46d80e-420d-4c15-cacc-0a9f8a0212a2"
      },
      "outputs": [
        {
          "name": "stdout",
          "output_type": "stream",
          "text": [
            "[ 3  6  9 12 15]\n"
          ]
        }
      ],
      "source": [
        "#numpy套件的ndarray型態,提供element-wise的操作\n",
        "import numpy as np\n",
        "a=np.array([1,2,3,4,5])\n",
        "print(a*3)"
      ]
    },
    {
      "cell_type": "code",
      "execution_count": null,
      "metadata": {
        "id": "veWCsi27v1pO",
        "outputId": "e1cf8b9e-24e8-45c5-d7d7-40d68f858121"
      },
      "outputs": [
        {
          "name": "stdout",
          "output_type": "stream",
          "text": [
            "<class 'numpy.ndarray'>\n",
            "(5,)\n",
            "int32\n",
            "1\n"
          ]
        }
      ],
      "source": [
        "a=np.array([1,2,3,4,5])#建立array(1,2,3,4,5)\n",
        "print(type(a))#建立返回值\n",
        "print(a.shape) #ndaary的形狀\n",
        "print(a.dtype) #資料的型態\n",
        "print(a.ndim) #維度"
      ]
    },
    {
      "cell_type": "code",
      "execution_count": null,
      "metadata": {
        "id": "ClAW91vav1pP",
        "outputId": "5aecbb07-21ed-4cf8-846f-c6522880e714"
      },
      "outputs": [
        {
          "name": "stdout",
          "output_type": "stream",
          "text": [
            "[0. 0. 0. 0. 0. 0.]\n",
            "[[[0. 0. 0. 0.]\n",
            "  [0. 0. 0. 0.]\n",
            "  [0. 0. 0. 0.]]\n",
            "\n",
            " [[0. 0. 0. 0.]\n",
            "  [0. 0. 0. 0.]\n",
            "  [0. 0. 0. 0.]]]\n",
            "[0 1 2 3 4 5 6 7 8 9]\n"
          ]
        }
      ],
      "source": [
        "import numpy as np #建立陣列運算\n",
        "z=np.zeros(6) #引入套件\n",
        "print(z)#輸出\n",
        "print(np.empty((2,3,4)))#輸出\n",
        "print(np.arange(10))#輸出"
      ]
    },
    {
      "cell_type": "markdown",
      "metadata": {
        "id": "CKOP5p73v1pP"
      },
      "source": [
        "## ndarray的進階操作"
      ]
    },
    {
      "cell_type": "code",
      "execution_count": null,
      "metadata": {
        "id": "lfrM7mS7v1pQ",
        "outputId": "6bcc1035-0905-4c4d-d54c-a5925480b9b6"
      },
      "outputs": [
        {
          "name": "stdout",
          "output_type": "stream",
          "text": [
            "[0 1 2 3 4 5 6 7 8 9]\n",
            "0\n",
            "[0 1 2 3 4]\n"
          ]
        }
      ],
      "source": [
        "my_array=np.arange(10) #引入套件\n",
        "print(my_array)#輸出\n",
        "print(my_array[0])#輸出0\n",
        "print(my_array[0:5])#輸出5位數字"
      ]
    },
    {
      "cell_type": "markdown",
      "metadata": {
        "id": "jHdAlePLv1pQ"
      },
      "source": [
        "### 2維資料取值"
      ]
    },
    {
      "cell_type": "code",
      "execution_count": null,
      "metadata": {
        "id": "CMuj-9U3v1pR",
        "outputId": "2281bb68-345b-4262-9985-5e71ddada8d8"
      },
      "outputs": [
        {
          "name": "stdout",
          "output_type": "stream",
          "text": [
            "[[0 1 2 3 4]\n",
            " [5 6 7 8 9]]\n",
            "[5 6 7 8 9]\n",
            "[1 6]\n",
            "6\n"
          ]
        }
      ],
      "source": [
        "my_2d_array=np.array([np.arange(0,5),np.arange(5,10)])#在給定的間隔內返回均勻間隔的值\n",
        "print(my_2d_array)#輸出五位數字\n",
        "print(my_2d_array[1,:])#輸出5~9\n",
        "print(my_2d_array[:,1])#輸出5~9\n",
        "print(my_2d_array[1,1])#輸出首數字跟尾數字"
      ]
    },
    {
      "cell_type": "code",
      "execution_count": null,
      "metadata": {
        "id": "iE59aSW9v1pS",
        "outputId": "4ae40f19-6223-4f3e-b378-a00c3eb428e8"
      },
      "outputs": [
        {
          "name": "stdout",
          "output_type": "stream",
          "text": [
            "[0 1 2 3 4 5 6 7 8 9]\n",
            "(10,)\n",
            "[[0 1 2 3 4]\n",
            " [5 6 7 8 9]]\n",
            "[[ 0  1  2  3  4  5  6  7  8  9]\n",
            " [10 11 12 13 14 15 16 17 18 19]\n",
            " [20 21 22 23 24 25 26 27 28 29]\n",
            " [30 31 32 33 34 35 36 37 38 39]\n",
            " [40 41 42 43 44 45 46 47 48 49]\n",
            " [50 51 52 53 54 55 56 57 58 59]\n",
            " [60 61 62 63 64 65 66 67 68 69]\n",
            " [70 71 72 73 74 75 76 77 78 79]\n",
            " [80 81 82 83 84 85 86 87 88 89]\n",
            " [90 91 92 93 94 95 96 97 98 99]]\n"
          ]
        }
      ],
      "source": [
        "my_array=np.arange(0,10)#建立陣列\n",
        "print(my_array)#輸出\n",
        "print(my_array.shape)#輸出最後一位\n",
        "my_2d_array=my_array.reshape(2,5)#指定輸出數字\n",
        "print(my_2d_array)#輸出數字\n",
        "print((np.arange(0,100).reshape(10,10)))#輸出1到100 10*10"
      ]
    },
    {
      "cell_type": "markdown",
      "metadata": {
        "id": "4uf64fg5v1pS"
      },
      "source": [
        "### numpy的空值nan"
      ]
    },
    {
      "cell_type": "code",
      "execution_count": null,
      "metadata": {
        "id": "QLIPvfXEv1pS",
        "outputId": "4dad485c-ae77-47b9-f0f8-7b575a276071"
      },
      "outputs": [
        {
          "name": "stdout",
          "output_type": "stream",
          "text": [
            "[56.  8. 19. 14. nan]\n"
          ]
        }
      ],
      "source": [
        "b=np.array([56, 8, 19, 14, np.nan])#空值\n",
        "print(b)#輸出"
      ]
    },
    {
      "cell_type": "code",
      "execution_count": null,
      "metadata": {
        "id": "BXl3B716v1pT"
      },
      "outputs": [],
      "source": [
        ""
      ]
    }
  ],
  "metadata": {
    "kernelspec": {
      "display_name": "Python 3",
      "language": "python",
      "name": "python3"
    },
    "language_info": {
      "codemirror_mode": {
        "name": "ipython",
        "version": 3
      },
      "file_extension": ".py",
      "mimetype": "text/x-python",
      "name": "python",
      "nbconvert_exporter": "python",
      "pygments_lexer": "ipython3",
      "version": "3.8.5"
    },
    "colab": {
      "name": "Chap4.ipynb",
      "provenance": []
    }
  },
  "nbformat": 4,
  "nbformat_minor": 0
}