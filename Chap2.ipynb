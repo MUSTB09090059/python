{
  "cells": [
    {
      "cell_type": "markdown",
      "metadata": {
        "id": "u0SyD3Yph_Pk"
      },
      "source": [
        "# Chap2 流程控制"
      ]
    },
    {
      "cell_type": "markdown",
      "metadata": {
        "id": "lcC00vfQh_Pp"
      },
      "source": [
        "## if else , elif"
      ]
    },
    {
      "cell_type": "code",
      "execution_count": null,
      "metadata": {
        "id": "ZsVf1O58h_Pq",
        "outputId": "48b67727-3fe3-4b61-b1e5-e011eb8e5358"
      },
      "outputs": [
        {
          "name": "stdout",
          "output_type": "stream",
          "text": [
            "b是比較大的數字\n"
          ]
        }
      ],
      "source": [
        "a=3\n",
        "b=4\n",
        "if a <= b: #假如a<=b\n",
        "    print(\"b是比較大的數字\")#輸出\"b是比較大的數字\"\n",
        "else:#否則\n",
        "    print(\"a是比較大的數字\")#輸出\"a是比較大的數字\""
      ]
    },
    {
      "cell_type": "markdown",
      "metadata": {
        "id": "x2OFIHBfh_Ps"
      },
      "source": [
        "### 成績評鑑"
      ]
    },
    {
      "cell_type": "code",
      "execution_count": null,
      "metadata": {
        "id": "2QOdhBIgh_Pt",
        "outputId": "4ae85db0-5309-44f5-958d-2614b6f96c1d"
      },
      "outputs": [
        {
          "name": "stdout",
          "output_type": "stream",
          "text": [
            "成績評鑑：\n",
            "甲等\n"
          ]
        }
      ],
      "source": [
        "grade=87\n",
        "print(\"成績評鑑：\")\n",
        "if grade >= 90: #如果數值>=90\n",
        "    print(\"優等\") #輸出優等\n",
        "elif grade >=80: #如果數值>=80\n",
        "    print(\"甲等\") #輸出甲等\n",
        "elif grade >=70: #如果數值>=70\n",
        "    print(\"乙等\") #輸出乙等\n",
        "elif grade >=60: #如果數值>=60\n",
        "    print(\"丙等\") #輸出丙等\n",
        "else:\n",
        "    print(\"不及格\")#輸出不及格\n"
      ]
    },
    {
      "cell_type": "markdown",
      "metadata": {
        "id": "Y3v31NSph_Pu"
      },
      "source": [
        "## for 迴圈"
      ]
    },
    {
      "cell_type": "code",
      "execution_count": null,
      "metadata": {
        "id": "TCP18pq9h_Pv",
        "outputId": "4317a9c9-28b3-4bd6-a30a-86cdfd1af881"
      },
      "outputs": [
        {
          "name": "stdout",
          "output_type": "stream",
          "text": [
            "1+2+3+...+10 = 55\n"
          ]
        }
      ],
      "source": [
        "#1+2+3...+10總和\n",
        "sum = 0\n",
        "for count in range(1, 11, 1): #從1開始，間隔1, 不包含11\n",
        "    sum += count\n",
        "print(\"1+2+3+...+10 =\", sum)"
      ]
    },
    {
      "cell_type": "code",
      "execution_count": null,
      "metadata": {
        "id": "7hjIs_HCh_Pw",
        "outputId": "78cff639-e887-4c83-902c-398ee53d487a"
      },
      "outputs": [
        {
          "name": "stdout",
          "output_type": "stream",
          "text": [
            "1+2+3+...+10 = 55\n"
          ]
        }
      ],
      "source": [
        "#range另外一種寫法\n",
        "#1+2+3...+10總和\n",
        "sum = 0\n",
        "for count in range(11): #1-10, 不包含11\n",
        "    sum += count\n",
        "print(\"1+2+3+...+10 =\", sum)"
      ]
    },
    {
      "cell_type": "code",
      "execution_count": null,
      "metadata": {
        "colab": {
          "base_uri": "https://localhost:8080/"
        },
        "id": "X4KhENCEh_Px",
        "outputId": "2e759825-0aec-48d4-f8c3-14f92664bbf8"
      },
      "outputs": [
        {
          "output_type": "stream",
          "name": "stdout",
          "text": [
            "f\n",
            "o\n",
            "r\n",
            " \n",
            "s\n",
            "t\n",
            "a\n",
            "t\n",
            "e\n",
            "m\n",
            "e\n",
            "n\n",
            "t\n",
            "end list\n"
          ]
        }
      ],
      "source": [
        "mylist=\"for statement\" #串列排列\n",
        "for c in mylist:\n",
        "    print(c)\n",
        "print(\"end list\")#輸出\"end list\""
      ]
    },
    {
      "cell_type": "code",
      "execution_count": null,
      "metadata": {
        "id": "-e7axl1Kh_Py",
        "outputId": "b28e99d0-1826-472b-edef-5a33d9d99df5"
      },
      "outputs": [
        {
          "name": "stdout",
          "output_type": "stream",
          "text": [
            "Java\n",
            "C#\n",
            "Python\n"
          ]
        }
      ],
      "source": [
        "for pl in [\"Java\", \"C#\", \"Python\"]:\n",
        "    print(pl)"
      ]
    },
    {
      "cell_type": "markdown",
      "metadata": {
        "id": "EiWP1wR4h_Py"
      },
      "source": [
        "### 雞兔同籠，若共有35個頭，94隻腳，請問有幾隻雞?幾隻兔?"
      ]
    },
    {
      "cell_type": "code",
      "execution_count": null,
      "metadata": {
        "id": "dNzuNy4Rh_Pz",
        "outputId": "8d9bdbf8-df81-4e18-9bd0-2486e7725464"
      },
      "outputs": [
        {
          "name": "stdout",
          "output_type": "stream",
          "text": [
            "雞有 23 隻,兔子有 12 隻\n"
          ]
        }
      ],
      "source": [
        "for chicken in range(0,36): #雞有35頭\n",
        "    rabbit=35-chicken #兔子=35-雞\n",
        "    if (2*chicken+4*rabbit) == 94: #如果2*雞+4*兔等於94\n",
        "        print(\"雞有\",chicken,\"隻,兔子有\",rabbit,\"隻\")#輸出\"雞有多少隻,兔子有多少隻\"\n",
        "        break\n",
        "else:#否則\n",
        "    print(\"無解\")#輸出無解"
      ]
    },
    {
      "cell_type": "markdown",
      "metadata": {
        "id": "zS6PmcnQh_P0"
      },
      "source": [
        "## while迴圈"
      ]
    },
    {
      "cell_type": "code",
      "execution_count": null,
      "metadata": {
        "id": "nQZr4wg7h_P0",
        "outputId": "e65b7cf6-8bd3-4d8c-e0a1-13290026a271"
      },
      "outputs": [
        {
          "name": "stdout",
          "output_type": "stream",
          "text": [
            "1+2+3+...+10= 55\n"
          ]
        }
      ],
      "source": [
        "sum=0\n",
        "count=1\n",
        "while count <=10:\n",
        "    sum += count\n",
        "    count += 1\n",
        "print(\"1+2+3+...+10=\",sum)"
      ]
    },
    {
      "cell_type": "markdown",
      "metadata": {
        "id": "sTXYc2c5h_P1"
      },
      "source": [
        "### 本金10000元，定存年利率0.6%，請問多久銀行存款會翻倍"
      ]
    },
    {
      "cell_type": "code",
      "execution_count": null,
      "metadata": {
        "id": "CDy-kcCPh_P1",
        "outputId": "ab768a1a-cc82-4780-d6d8-a3932f3b2665"
      },
      "outputs": [
        {
          "name": "stdout",
          "output_type": "stream",
          "text": [
            "116 年以後，存款加倍，為 20015 元\n"
          ]
        }
      ],
      "source": [
        "x=10000\n",
        "years=0\n",
        "while x <= 20000:\n",
        "    x=x*1.006\n",
        "    years += 1\n",
        "print(str(years), \"年以後，存款加倍，為\", int(x),\"元\")"
      ]
    },
    {
      "cell_type": "markdown",
      "metadata": {
        "id": "vqM8jb1zh_P2"
      },
      "source": [
        "### 帳號密碼判斷"
      ]
    },
    {
      "cell_type": "code",
      "execution_count": null,
      "metadata": {
        "id": "nen9SetZh_P2",
        "outputId": "0f79b8c1-40f4-4853-a4c8-87b8e8bd114b"
      },
      "outputs": [
        {
          "name": "stdout",
          "output_type": "stream",
          "text": [
            "請輸入帳號：sa;djf\n",
            "請輸入密碼：adsjf;a\n",
            "帳號或密碼輸入錯誤\n",
            "請輸入帳號：tony\n",
            "請輸入密碼：asdf\n",
            "帳號或密碼輸入錯誤\n",
            "請輸入帳號：asdf\n",
            "請輸入密碼：1234\n",
            "帳號或密碼輸入錯誤\n",
            "請輸入帳號：tony\n",
            "請輸入密碼：1234\n",
            "歡迎登入\n"
          ]
        }
      ],
      "source": [
        "id=\"tony\"\n",
        "pwd=\"1234\"\n",
        "while True:\n",
        "    x=input(\"請輸入帳號：\")\n",
        "    y=input(\"請輸入密碼：\")\n",
        "    if (x==id and y==pwd):\n",
        "        print(\"歡迎登入\")\n",
        "        break\n",
        "    else:\n",
        "        print(\"帳號或密碼輸入錯誤\")"
      ]
    },
    {
      "cell_type": "markdown",
      "metadata": {
        "id": "rizt6tkPh_P3"
      },
      "source": [
        "## 亂數"
      ]
    },
    {
      "cell_type": "code",
      "execution_count": null,
      "metadata": {
        "id": "-hGoL2ZAh_P3",
        "outputId": "a38183fa-43b6-4e08-f5b9-07213d424e3d"
      },
      "outputs": [
        {
          "name": "stdout",
          "output_type": "stream",
          "text": [
            "6\n",
            "5\n",
            "7\n",
            "5\n",
            "9\n",
            "2\n",
            "9\n",
            "1\n",
            "9\n",
            "2\n"
          ]
        }
      ],
      "source": [
        "import random\n",
        "for i in range(0,10):\n",
        "    print(random.randint(1,9))"
      ]
    },
    {
      "cell_type": "markdown",
      "metadata": {
        "id": "6umBlf1Ih_P3"
      },
      "source": [
        "### 猜數字"
      ]
    },
    {
      "cell_type": "code",
      "execution_count": null,
      "metadata": {
        "id": "Q9pL2vG-h_P4",
        "outputId": "b53df33c-e973-457d-e4a8-f229afd9e7ec"
      },
      "outputs": [
        {
          "name": "stdout",
          "output_type": "stream",
          "text": [
            "請輸入1~20之間的數字-->10\n",
            "你猜錯了\n",
            "請輸入1~20之間的數字-->9\n",
            "你猜錯了\n",
            "請輸入1~20之間的數字-->8\n",
            "你猜錯了\n",
            "請輸入1~20之間的數字-->7\n",
            "你猜錯了\n",
            "請輸入1~20之間的數字-->6\n",
            "你猜錯了\n",
            "請輸入1~20之間的數字-->5\n",
            "你猜錯了\n",
            "請輸入1~20之間的數字-->4\n",
            "你猜錯了\n",
            "請輸入1~20之間的數字-->3\n",
            "你猜錯了\n",
            "請輸入1~20之間的數字-->2\n",
            "你猜錯了\n",
            "請輸入1~20之間的數字-->1\n",
            "你猜錯了\n",
            "請輸入1~20之間的數字-->11\n",
            "你猜錯了\n",
            "請輸入1~20之間的數字-->12\n",
            "你猜錯了\n",
            "請輸入1~20之間的數字-->13\n",
            "你猜對了，數字是 13\n"
          ]
        }
      ],
      "source": [
        "import random\n",
        "number=random.randint(1,20)\n",
        "while True:\n",
        "    guess=int(input(\"請輸入1~20之間的數字-->\"))\n",
        "    if guess == number:\n",
        "        print(\"你猜對了，數字是\", number)\n",
        "        break\n",
        "    else:\n",
        "        print(\"你猜錯了\")"
      ]
    },
    {
      "cell_type": "code",
      "execution_count": null,
      "metadata": {
        "collapsed": true,
        "id": "GykvP9Ruh_P4"
      },
      "outputs": [],
      "source": [
        ""
      ]
    }
  ],
  "metadata": {
    "kernelspec": {
      "display_name": "Python 3",
      "language": "python",
      "name": "python3"
    },
    "language_info": {
      "codemirror_mode": {
        "name": "ipython",
        "version": 3
      },
      "file_extension": ".py",
      "mimetype": "text/x-python",
      "name": "python",
      "nbconvert_exporter": "python",
      "pygments_lexer": "ipython3",
      "version": "3.6.3"
    },
    "colab": {
      "name": "Chap2.ipynb",
      "provenance": [],
      "collapsed_sections": []
    }
  },
  "nbformat": 4,
  "nbformat_minor": 0
}